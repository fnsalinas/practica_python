{
 "cells": [
  {
   "attachments": {},
   "cell_type": "markdown",
   "metadata": {},
   "source": [
    "# Escribiendo mi primera aplicacion en python\n",
    "## Desarrollado por Equipo de Estudio\n",
    "### Fecha de creación: 2023-03-22\n",
    "\n",
    "**Ejemplo**:\n",
    "Los pasos para ejecutar el script SQL en la base de datos son:\n",
    "\n",
    "1. Revisar la tabla XX\n",
    "    ```sql\n",
    "    SELECT *\n",
    "    FROM XX;\n",
    "    ```\n",
    "\n",
    "2. Insertar los registros de XX en la fecha actual a la tabla XXX\n",
    "    ```sql\n",
    "    INSERT INTO XXX\n",
    "    SELECT *\n",
    "    FROM XX\n",
    "    WHERE fecha = current_date();\n",
    "    ```\n",
    "\n",
    "3. Revisar la tabla de salida\n",
    "<table>\n",
    "  <tr>\n",
    "    <th>Company</th>\n",
    "    <th>Contact</th>\n",
    "    <th>Country</th>\n",
    "  </tr>\n",
    "  <tr>\n",
    "    <td>Alfreds Futterkiste</td>\n",
    "    <td>Maria Anders</td>\n",
    "    <td>Germany</td>\n",
    "  </tr>\n",
    "  <tr>\n",
    "    <td>Centro comercial Moctezuma</td>\n",
    "    <td>Francisco Chang</td>\n",
    "    <td>Mexico</td>\n",
    "  </tr>\n",
    "</table>\n"
   ]
  },
  {
   "attachments": {},
   "cell_type": "markdown",
   "metadata": {},
   "source": [
    "### 1. Revisión de tabla"
   ]
  },
  {
   "attachments": {},
   "cell_type": "markdown",
   "metadata": {},
   "source": [
    "Para conectarse a una base de datos de SQL Server 2019 en Python, puedes utilizar la biblioteca \"pyodbc\". Aquí te dejo un ejemplo de script que se conecta a la base de datos, ejecuta una consulta SELECT y muestra los resultados:"
   ]
  },
  {
   "cell_type": "code",
   "execution_count": 1,
   "metadata": {},
   "outputs": [
    {
     "name": "stdout",
     "output_type": "stream",
     "text": [
      "Collecting pyodbc\n",
      "  Downloading pyodbc-4.0.35-cp310-cp310-manylinux_2_17_x86_64.manylinux2014_x86_64.whl (332 kB)\n",
      "\u001b[2K     \u001b[90m━━━━━━━━━━━━━━━━━━━━━━━━━━━━━━━━━━━━━━━\u001b[0m \u001b[32m332.4/332.4 kB\u001b[0m \u001b[31m5.5 MB/s\u001b[0m eta \u001b[36m0:00:00\u001b[0m00:01\u001b[0m\n",
      "\u001b[?25hInstalling collected packages: pyodbc\n",
      "Successfully installed pyodbc-4.0.35\n"
     ]
    }
   ],
   "source": [
    "!pip install pyodbc"
   ]
  },
  {
   "cell_type": "code",
   "execution_count": 2,
   "metadata": {},
   "outputs": [
    {
     "ename": "Error",
     "evalue": "('01000', \"[01000] [unixODBC][Driver Manager]Can't open lib 'ODBC Driver 17 for SQL Server' : file not found (0) (SQLDriverConnect)\")",
     "output_type": "error",
     "traceback": [
      "\u001b[0;31m---------------------------------------------------------------------------\u001b[0m",
      "\u001b[0;31mError\u001b[0m                                     Traceback (most recent call last)",
      "Cell \u001b[0;32mIn[2], line 8\u001b[0m\n\u001b[1;32m      6\u001b[0m username \u001b[39m=\u001b[39m \u001b[39m'\u001b[39m\u001b[39mnombre_de_usuario\u001b[39m\u001b[39m'\u001b[39m\n\u001b[1;32m      7\u001b[0m password \u001b[39m=\u001b[39m \u001b[39m'\u001b[39m\u001b[39mcontraseña\u001b[39m\u001b[39m'\u001b[39m\n\u001b[0;32m----> 8\u001b[0m cnxn \u001b[39m=\u001b[39m pyodbc\u001b[39m.\u001b[39;49mconnect(\u001b[39m'\u001b[39;49m\u001b[39mDRIVER=\u001b[39;49m\u001b[39m{\u001b[39;49m\u001b[39mODBC Driver 17 for SQL Server};SERVER=\u001b[39;49m\u001b[39m'\u001b[39;49m\u001b[39m+\u001b[39;49mserver\u001b[39m+\u001b[39;49m\u001b[39m'\u001b[39;49m\u001b[39m;DATABASE=\u001b[39;49m\u001b[39m'\u001b[39;49m\u001b[39m+\u001b[39;49mdatabase\u001b[39m+\u001b[39;49m\u001b[39m'\u001b[39;49m\u001b[39m;UID=\u001b[39;49m\u001b[39m'\u001b[39;49m\u001b[39m+\u001b[39;49musername\u001b[39m+\u001b[39;49m\u001b[39m'\u001b[39;49m\u001b[39m;PWD=\u001b[39;49m\u001b[39m'\u001b[39;49m\u001b[39m+\u001b[39;49mpassword)\n\u001b[1;32m     10\u001b[0m \u001b[39m# Ejecutar la consulta SELECT\u001b[39;00m\n\u001b[1;32m     11\u001b[0m SQL \u001b[39m=\u001b[39m \u001b[39m'\u001b[39m\u001b[39mSELECT * FROM XX;\u001b[39m\u001b[39m'\u001b[39m\n",
      "\u001b[0;31mError\u001b[0m: ('01000', \"[01000] [unixODBC][Driver Manager]Can't open lib 'ODBC Driver 17 for SQL Server' : file not found (0) (SQLDriverConnect)\")"
     ]
    }
   ],
   "source": [
    "import pyodbc\n",
    "\n",
    "# Configurar la conexión a la base de datos\n",
    "server = 'nombre_del_servidor'\n",
    "database = 'nombre_de_la_base_de_datos'\n",
    "username = 'nombre_de_usuario'\n",
    "password = 'contraseña'\n",
    "cnxn = pyodbc.connect('DRIVER={ODBC Driver 17 for SQL Server};SERVER='+server+';DATABASE='+database+';UID='+username+';PWD='+password)\n",
    "\n",
    "# Ejecutar la consulta SELECT\n",
    "SQL = 'SELECT * FROM XX;'\n",
    "cursor = cnxn.cursor()\n",
    "cursor.execute(SQL)\n",
    "\n",
    "# Obtener los resultados y mostrarlos\n",
    "for row in cursor:\n",
    "    print(row)\n"
   ]
  },
  {
   "attachments": {},
   "cell_type": "markdown",
   "metadata": {},
   "source": [
    "En el código anterior, deberás reemplazar \"nombre_del_servidor\", \"nombre_de_la_base_de_datos\", \"nombre_de_usuario\" y \"contraseña\" por los valores correspondientes a tu base de datos. También deberás reemplazar \"XX\" por el nombre de la tabla que deseas consultar."
   ]
  },
  {
   "cell_type": "markdown",
   "metadata": {},
   "source": []
  }
 ],
 "metadata": {
  "kernelspec": {
   "display_name": "Python 3",
   "language": "python",
   "name": "python3"
  },
  "language_info": {
   "codemirror_mode": {
    "name": "ipython",
    "version": 3
   },
   "file_extension": ".py",
   "mimetype": "text/x-python",
   "name": "python",
   "nbconvert_exporter": "python",
   "pygments_lexer": "ipython3",
   "version": "3.10.4"
  },
  "orig_nbformat": 4
 },
 "nbformat": 4,
 "nbformat_minor": 2
}
