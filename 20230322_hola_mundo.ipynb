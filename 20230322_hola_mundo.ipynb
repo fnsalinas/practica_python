{
 "cells": [
  {
   "attachments": {},
   "cell_type": "markdown",
   "metadata": {},
   "source": [
    "# Escribiendo mi primera aplicacion en python\n",
    "## Desarrollado por Equipo de Estudio\n",
    "### Fecha de creación: 2023-03-22\n",
    "\n",
    "**Ejemplo**:\n",
    "Los pasos para ejecutar el script SQL en la base de datos son:\n",
    "\n",
    "1. Revisar la tabla XX\n",
    "    ```sql\n",
    "    SELECT *\n",
    "    FROM XX;\n",
    "    ```\n",
    "\n",
    "2. Insertar los registros de XX en la fecha actual a la tabla XXX\n",
    "    ```sql\n",
    "    INSERT INTO XXX\n",
    "    SELECT *\n",
    "    FROM XX\n",
    "    WHERE fecha = current_date();\n",
    "    ```\n",
    "\n",
    "3. Revisar la tabla de salida\n",
    "<table>\n",
    "  <tr>\n",
    "    <th>Company</th>\n",
    "    <th>Contact</th>\n",
    "    <th>Country</th>\n",
    "  </tr>\n",
    "  <tr>\n",
    "    <td>Alfreds Futterkiste</td>\n",
    "    <td>Maria Anders</td>\n",
    "    <td>Germany</td>\n",
    "  </tr>\n",
    "  <tr>\n",
    "    <td>Centro comercial Moctezuma</td>\n",
    "    <td>Francisco Chang</td>\n",
    "    <td>Mexico</td>\n",
    "  </tr>\n",
    "</table>\n"
   ]
  },
  {
   "attachments": {},
   "cell_type": "markdown",
   "metadata": {},
   "source": [
    "### 1. Revisión de tabla"
   ]
  },
  {
   "attachments": {},
   "cell_type": "markdown",
   "metadata": {},
   "source": [
    "Para conectarse a una base de datos de SQL Server 2019 en Python, puedes utilizar la biblioteca \"pyodbc\". Aquí te dejo un ejemplo de script que se conecta a la base de datos, ejecuta una consulta SELECT y muestra los resultados:"
   ]
  },
  {
   "cell_type": "code",
   "execution_count": null,
   "metadata": {
    "vscode": {
     "languageId": "plaintext"
    }
   },
   "outputs": [],
   "source": [
    "import pyodbc\n",
    "\n",
    "# Configurar la conexión a la base de datos\n",
    "server = 'nombre_del_servidor'\n",
    "database = 'nombre_de_la_base_de_datos'\n",
    "username = 'nombre_de_usuario'\n",
    "password = 'contraseña'\n",
    "cnxn = pyodbc.connect('DRIVER={ODBC Driver 17 for SQL Server};SERVER='+server+';DATABASE='+database+';UID='+username+';PWD='+password)\n",
    "\n",
    "# Ejecutar la consulta SELECT\n",
    "SQL = 'SELECT * FROM XX;'\n",
    "cursor = cnxn.cursor()\n",
    "cursor.execute(SQL)\n",
    "\n",
    "# Obtener los resultados y mostrarlos\n",
    "for row in cursor:\n",
    "    print(row)\n"
   ]
  },
  {
   "attachments": {},
   "cell_type": "markdown",
   "metadata": {},
   "source": [
    "En el código anterior, deberás reemplazar \"nombre_del_servidor\", \"nombre_de_la_base_de_datos\", \"nombre_de_usuario\" y \"contraseña\" por los valores correspondientes a tu base de datos. También deberás reemplazar \"XX\" por el nombre de la tabla que deseas consultar."
   ]
  },
  {
   "cell_type": "markdown",
   "metadata": {},
   "source": []
  }
 ],
 "metadata": {
  "language_info": {
   "name": "python"
  },
  "orig_nbformat": 4
 },
 "nbformat": 4,
 "nbformat_minor": 2
}
